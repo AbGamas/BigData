{
 "cells": [
  {
   "cell_type": "markdown",
   "metadata": {},
   "source": [
    "# Ejercicio Práctico de Koalas"
   ]
  },
  {
   "cell_type": "code",
   "execution_count": 25,
   "metadata": {},
   "outputs": [],
   "source": [
    "import findspark\n",
    "findspark.init()\n",
    "\n",
    "import pandas as pd\n",
    "import pyspark\n",
    "\n",
    "import pyspark\n",
    "from pyspark.sql import SparkSession"
   ]
  },
  {
   "cell_type": "code",
   "execution_count": 19,
   "metadata": {},
   "outputs": [],
   "source": [
    "import numpy as np\n",
    "import pandas as pd\n",
    "#import databricks.pandas as ps\n",
    "import pyspark.pandas as ps\n",
    "\n",
    "import matplotlib.pyplot as plt\n"
   ]
  },
  {
   "cell_type": "markdown",
   "metadata": {},
   "source": [
    "### Funciones básicas"
   ]
  },
  {
   "cell_type": "code",
   "execution_count": 3,
   "metadata": {},
   "outputs": [],
   "source": [
    "pser = pd.Series([1, 3, 5, np.nan, 6, 8]) \n",
    "\n",
    "## Crea una serie de Koalas con [1, 3, 5, np.nan, 6, 8]\n",
    "\n",
    "kser = ps.Series(pser)\n",
    "\n",
    "## Pasa la serie de pandas pser a Koalas con el nombre de kser"
   ]
  },
  {
   "cell_type": "code",
   "execution_count": 4,
   "metadata": {},
   "outputs": [
    {
     "name": "stdout",
     "output_type": "stream",
     "text": [
      "0    1.0\n",
      "1    3.0\n",
      "2    5.0\n",
      "3    NaN\n",
      "4    6.0\n",
      "5    8.0\n",
      "dtype: float64\n"
     ]
    }
   ],
   "source": [
    "## Ordena kser por el index\n",
    "\n",
    "kser_sorted = kser.sort_index()\n",
    "\n",
    "# Mostrar la serie ordenada\n",
    "print(kser_sorted)"
   ]
  },
  {
   "cell_type": "code",
   "execution_count": 7,
   "metadata": {},
   "outputs": [
    {
     "name": "stdout",
     "output_type": "stream",
     "text": [
      "          A         B\n",
      "0  0.461534  0.995540\n",
      "1  0.266894  0.973451\n",
      "2  0.812469  0.107400\n",
      "3  0.166146  0.110512\n",
      "4  0.915672  0.741899\n"
     ]
    }
   ],
   "source": [
    "pdf = pd.DataFrame({'A': np.random.rand(5),\n",
    "                    'B': np.random.rand(5)})\n",
    "\n",
    "## Genera un Dataframe de Koalas con el pdf de pandas y llamalo kdf\n",
    "\n",
    "kdf = ps.DataFrame(pdf)\n",
    "\n",
    "# Mostrar el DataFrame de Koalas\n",
    "print(kdf)"
   ]
  },
  {
   "cell_type": "markdown",
   "metadata": {},
   "source": [
    "### Visualización de datos"
   ]
  },
  {
   "cell_type": "code",
   "execution_count": 8,
   "metadata": {},
   "outputs": [
    {
     "data": {
      "text/html": [
       "<div>\n",
       "<style scoped>\n",
       "    .dataframe tbody tr th:only-of-type {\n",
       "        vertical-align: middle;\n",
       "    }\n",
       "\n",
       "    .dataframe tbody tr th {\n",
       "        vertical-align: top;\n",
       "    }\n",
       "\n",
       "    .dataframe thead th {\n",
       "        text-align: right;\n",
       "    }\n",
       "</style>\n",
       "<table border=\"1\" class=\"dataframe\">\n",
       "  <thead>\n",
       "    <tr style=\"text-align: right;\">\n",
       "      <th></th>\n",
       "      <th>A</th>\n",
       "      <th>B</th>\n",
       "    </tr>\n",
       "  </thead>\n",
       "  <tbody>\n",
       "    <tr>\n",
       "      <th>count</th>\n",
       "      <td>5.000000</td>\n",
       "      <td>5.000000</td>\n",
       "    </tr>\n",
       "    <tr>\n",
       "      <th>mean</th>\n",
       "      <td>0.524543</td>\n",
       "      <td>0.585760</td>\n",
       "    </tr>\n",
       "    <tr>\n",
       "      <th>std</th>\n",
       "      <td>0.329654</td>\n",
       "      <td>0.446456</td>\n",
       "    </tr>\n",
       "    <tr>\n",
       "      <th>min</th>\n",
       "      <td>0.166146</td>\n",
       "      <td>0.107400</td>\n",
       "    </tr>\n",
       "    <tr>\n",
       "      <th>25%</th>\n",
       "      <td>0.266894</td>\n",
       "      <td>0.110512</td>\n",
       "    </tr>\n",
       "    <tr>\n",
       "      <th>50%</th>\n",
       "      <td>0.461534</td>\n",
       "      <td>0.741899</td>\n",
       "    </tr>\n",
       "    <tr>\n",
       "      <th>75%</th>\n",
       "      <td>0.812469</td>\n",
       "      <td>0.973451</td>\n",
       "    </tr>\n",
       "    <tr>\n",
       "      <th>max</th>\n",
       "      <td>0.915672</td>\n",
       "      <td>0.995540</td>\n",
       "    </tr>\n",
       "  </tbody>\n",
       "</table>\n",
       "</div>"
      ],
      "text/plain": [
       "              A         B\n",
       "count  5.000000  5.000000\n",
       "mean   0.524543  0.585760\n",
       "std    0.329654  0.446456\n",
       "min    0.166146  0.107400\n",
       "25%    0.266894  0.110512\n",
       "50%    0.461534  0.741899\n",
       "75%    0.812469  0.973451\n",
       "max    0.915672  0.995540"
      ]
     },
     "execution_count": 8,
     "metadata": {},
     "output_type": "execute_result"
    }
   ],
   "source": [
    "## Describe los datos de kdf\n",
    "\n",
    "kdf.describe()"
   ]
  },
  {
   "cell_type": "code",
   "execution_count": 9,
   "metadata": {
    "scrolled": true
   },
   "outputs": [
    {
     "name": "stdout",
     "output_type": "stream",
     "text": [
      "          A         B\n",
      "2  0.812469  0.107400\n",
      "3  0.166146  0.110512\n",
      "4  0.915672  0.741899\n",
      "1  0.266894  0.973451\n",
      "0  0.461534  0.995540\n"
     ]
    }
   ],
   "source": [
    "## Ordena los datos de kdf por la columna B\n",
    "\n",
    "kdf_sorted = kdf.sort_values(by='B')\n",
    "\n",
    "# Mostrar el DataFrame ordenado\n",
    "print(kdf_sorted)"
   ]
  },
  {
   "cell_type": "code",
   "execution_count": 10,
   "metadata": {},
   "outputs": [
    {
     "name": "stdout",
     "output_type": "stream",
     "text": [
      "          0         1         2         3         4\n",
      "A  0.461534  0.266894  0.812469  0.166146  0.915672\n",
      "B  0.995540  0.973451  0.107400  0.110512  0.741899\n"
     ]
    }
   ],
   "source": [
    "## Transpon los datos de kdf\n",
    "\n",
    "kdf_transposed = kdf.transpose()\n",
    "\n",
    "# Mostrar el DataFrame transpuesto\n",
    "print(kdf_transposed)"
   ]
  },
  {
   "cell_type": "markdown",
   "metadata": {},
   "source": [
    "### Selección"
   ]
  },
  {
   "cell_type": "code",
   "execution_count": 11,
   "metadata": {},
   "outputs": [
    {
     "name": "stdout",
     "output_type": "stream",
     "text": [
      "          A         B\n",
      "0  0.461534  0.995540\n",
      "1  0.266894  0.973451\n",
      "2  0.812469  0.107400\n",
      "3  0.166146  0.110512\n",
      "4  0.915672  0.741899\n"
     ]
    }
   ],
   "source": [
    "## Selecciona las varaibles A y B de Kdf\n",
    "\n",
    "kdf_selected = kdf[['A', 'B']]\n",
    "\n",
    "# Mostrar el DataFrame seleccionado\n",
    "print(kdf_selected)"
   ]
  },
  {
   "cell_type": "code",
   "execution_count": 12,
   "metadata": {
    "scrolled": false
   },
   "outputs": [
    {
     "name": "stdout",
     "output_type": "stream",
     "text": [
      "          A         B\n",
      "1  0.266894  0.973451\n",
      "2  0.812469  0.107400\n"
     ]
    }
   ],
   "source": [
    "## Selecciona las filas 1, 2 de kdf\n",
    "\n",
    "kdf_selected_rows = kdf.iloc[1:3]\n",
    "\n",
    "# Mostrar el DataFrame con las filas seleccionadas\n",
    "print(kdf_selected_rows)"
   ]
  },
  {
   "cell_type": "code",
   "execution_count": 13,
   "metadata": {
    "scrolled": false
   },
   "outputs": [
    {
     "name": "stdout",
     "output_type": "stream",
     "text": [
      "0    0.995540\n",
      "1    0.973451\n",
      "2    0.107400\n",
      "Name: B, dtype: float64\n"
     ]
    }
   ],
   "source": [
    "## Selecciona las filas 0, 1 y 2 de la variable B\n",
    "\n",
    "kdf_selected = kdf['B'].iloc[0:3]\n",
    "\n",
    "# Mostrar el resultado\n",
    "print(kdf_selected)"
   ]
  },
  {
   "cell_type": "markdown",
   "metadata": {},
   "source": [
    "### Aplicando funciones de Python a Koalas"
   ]
  },
  {
   "cell_type": "code",
   "execution_count": 14,
   "metadata": {},
   "outputs": [
    {
     "name": "stderr",
     "output_type": "stream",
     "text": [
      "C:\\Spark\\spark-3.5.3-bin-hadoop3\\python\\pyspark\\pandas\\utils.py:1016: PandasAPIOnSparkAdviceWarning: If the type hints is not specified for `apply`, it is expensive to infer the data type internally.\n",
      "  warnings.warn(message, PandasAPIOnSparkAdviceWarning)\n"
     ]
    },
    {
     "name": "stdout",
     "output_type": "stream",
     "text": [
      "          A         B\n",
      "0  0.461534  0.995540\n",
      "1  0.728428  1.968991\n",
      "2  1.540897  2.076391\n",
      "3  1.707043  2.186903\n",
      "4  2.622715  2.928802\n"
     ]
    }
   ],
   "source": [
    "## Aplica la funcion de Python de np.cumsum a kdf\n",
    "\n",
    "kdf_cumsum = kdf.apply(np.cumsum)\n",
    "\n",
    "# Mostrar el DataFrame con la suma acumulativa\n",
    "print(kdf_cumsum)"
   ]
  },
  {
   "cell_type": "code",
   "execution_count": 15,
   "metadata": {},
   "outputs": [
    {
     "name": "stdout",
     "output_type": "stream",
     "text": [
      "          A         B\n",
      "0  0.213014  0.991099\n",
      "1  0.071232  0.947607\n",
      "2  0.660106  0.011535\n",
      "3  0.027604  0.012213\n",
      "4  0.838456  0.550415\n"
     ]
    }
   ],
   "source": [
    "## Eleva al cuadrado los valores de kdf\n",
    "\n",
    "kdf_squared = kdf ** 2\n",
    "\n",
    "# Mostrar el DataFrame con los valores al cuadrado\n",
    "print(kdf_squared)"
   ]
  },
  {
   "cell_type": "markdown",
   "metadata": {},
   "source": [
    "### Agrupando datos"
   ]
  },
  {
   "cell_type": "code",
   "execution_count": 16,
   "metadata": {},
   "outputs": [
    {
     "name": "stderr",
     "output_type": "stream",
     "text": [
      "C:\\Spark\\spark-3.5.3-bin-hadoop3\\python\\pyspark\\pandas\\groupby.py:893: FutureWarning: Default value of `numeric_only` will be changed to `False` instead of `True` in 4.0.0.\n",
      "  warnings.warn(\n"
     ]
    },
    {
     "name": "stdout",
     "output_type": "stream",
     "text": [
      "Empty DataFrame\n",
      "Columns: []\n",
      "Index: [(0.46153425064141473, 0.9955395428978093), (0.2668935574858301, 0.9734513151072526), (0.812469200965246, 0.1074001115802522), (0.1661455086913688, 0.1105115338912599), (0.9156724103333934, 0.7418994355648499)]\n"
     ]
    }
   ],
   "source": [
    "## Obten la suma de los valores al agrupar por A y por B\n",
    "\n",
    "kdf_grouped_sum = kdf.groupby(['A', 'B']).sum()\n",
    "\n",
    "# Mostrar el DataFrame con la suma agrupada\n",
    "print(kdf_grouped_sum)"
   ]
  },
  {
   "cell_type": "markdown",
   "metadata": {},
   "source": [
    "### Generando gráficos"
   ]
  },
  {
   "cell_type": "code",
   "execution_count": 15,
   "metadata": {},
   "outputs": [],
   "source": [
    "# This is needed for visualizing plot on notebook\n",
    "%matplotlib inline"
   ]
  },
  {
   "cell_type": "code",
   "execution_count": 21,
   "metadata": {},
   "outputs": [
    {
     "name": "stderr",
     "output_type": "stream",
     "text": [
      "C:\\Spark\\spark-3.5.3-bin-hadoop3\\python\\pyspark\\pandas\\utils.py:1016: PandasAPIOnSparkAdviceWarning: `to_pandas` loads all data into the driver's memory. It should only be used if the resulting pandas DataFrame is expected to be small.\n",
      "  warnings.warn(message, PandasAPIOnSparkAdviceWarning)\n"
     ]
    },
    {
     "data": {
      "image/png": "[encoded data removed]",
      "text/plain": [
       "<Figure size 1000x600 with 1 Axes>"
      ]
     },
     "metadata": {},
     "output_type": "display_data"
    }
   ],
   "source": [
    "speed = [0.1, 17.5, 40, 48, 52, 69, 88]\n",
    "lifespan = [2, 8, 70, 1.5, 25, 12, 28]\n",
    "index = ['snail', 'pig', 'elephant',\n",
    "         'rabbit', 'giraffe', 'coyote', 'horse']\n",
    "\n",
    "kdf = ps.DataFrame({'speed': speed,\n",
    "                   'lifespan': lifespan}, index=index)\n",
    "\n",
    "## Genera un grafico de barras con kdf y matplotlib\n",
    "\n",
    "kdf_pandas = kdf.to_pandas()\n",
    "\n",
    "# Crear un gráfico de barras\n",
    "kdf_pandas.plot(kind='bar', figsize=(10, 6))\n",
    "\n",
    "# Etiquetas y título\n",
    "plt.title('Diferentes animales')\n",
    "plt.xlabel('Animales')\n",
    "plt.ylabel('Valor')\n",
    "\n",
    "# Mostrar el gráfico\n",
    "plt.show()"
   ]
  },
  {
   "cell_type": "code",
   "execution_count": 22,
   "metadata": {
    "scrolled": true
   },
   "outputs": [
    {
     "name": "stderr",
     "output_type": "stream",
     "text": [
      "C:\\Spark\\spark-3.5.3-bin-hadoop3\\python\\pyspark\\pandas\\utils.py:1016: PandasAPIOnSparkAdviceWarning: `to_pandas` loads all data into the driver's memory. It should only be used if the resulting pandas DataFrame is expected to be small.\n",
      "  warnings.warn(message, PandasAPIOnSparkAdviceWarning)\n"
     ]
    },
    {
     "data": {
      "image/png": "[encoded data removed]",
      "text/plain": [
       "<Figure size 1000x600 with 1 Axes>"
      ]
     },
     "metadata": {},
     "output_type": "display_data"
    }
   ],
   "source": [
    "kdf = ps.DataFrame({\n",
    "    'sales': [3, 2, 3, 9, 10, 6, 3],\n",
    "    'signups': [5, 5, 6, 12, 14, 13, 9],\n",
    "    'visits': [20, 42, 28, 62, 81, 50, 90],\n",
    "}, index=pd.date_range(start='2019/08/15', end='2020/03/09',\n",
    "                       freq='M'))\n",
    "\n",
    "## Genera un grafico de areas con kdf y matplotlib\n",
    "\n",
    "kdf_pandas = kdf.to_pandas()\n",
    "\n",
    "# Crear el gráfico de áreas\n",
    "kdf_pandas.plot.area(figsize=(10, 6))\n",
    "\n",
    "# Etiquetas y título\n",
    "plt.title('Sales, Signups, and Visits Over Time')\n",
    "plt.xlabel('Date')\n",
    "plt.ylabel('Value')\n",
    "\n",
    "# Mostrar el gráfico\n",
    "plt.show()"
   ]
  },
  {
   "cell_type": "markdown",
   "metadata": {},
   "source": [
    "### Utilizando SQL en ps"
   ]
  },
  {
   "cell_type": "code",
   "execution_count": 23,
   "metadata": {
    "scrolled": false
   },
   "outputs": [],
   "source": [
    "kdf = ps.DataFrame({'year': [1990, 1997, 2003, 2009, 2014],\n",
    "                    'pig': [20, 18, 489, 675, 1776],\n",
    "                    'horse': [4, 25, 281, 600, 1900]})"
   ]
  },
  {
   "cell_type": "code",
   "execution_count": 27,
   "metadata": {},
   "outputs": [
    {
     "name": "stderr",
     "output_type": "stream",
     "text": [
      "C:\\Spark\\spark-3.5.3-bin-hadoop3\\python\\pyspark\\pandas\\utils.py:1016: PandasAPIOnSparkAdviceWarning: `to_pandas` loads all data into the driver's memory. It should only be used if the resulting pandas DataFrame is expected to be small.\n",
      "  warnings.warn(message, PandasAPIOnSparkAdviceWarning)\n"
     ]
    },
    {
     "name": "stdout",
     "output_type": "stream",
     "text": [
      "+----+----+-----+\n",
      "|year| pig|horse|\n",
      "+----+----+-----+\n",
      "|2003| 489|  281|\n",
      "|2009| 675|  600|\n",
      "|2014|1776| 1900|\n",
      "+----+----+-----+\n",
      "\n"
     ]
    }
   ],
   "source": [
    "## Con una consulta SQL selecciona los datos donde pig sea mayor que 100\n",
    "\n",
    "spark = SparkSession.builder.master(\"local\").appName(\"SQL Example\").getOrCreate()\n",
    "\n",
    "\n",
    "kdf = ps.DataFrame({'year': [1990, 1997, 2003, 2009, 2014],\n",
    "                    'pig': [20, 18, 489, 675, 1776],\n",
    "                    'horse': [4, 25, 281, 600, 1900]})\n",
    "\n",
    "# Convertir el DataFrame de Pandas API on Spark a un DataFrame de Spark\n",
    "spark_df = spark.createDataFrame(kdf.to_pandas())\n",
    "\n",
    "# Registrar el DataFrame como una tabla temporal en Spark\n",
    "spark_df.createOrReplaceTempView(\"animals\")\n",
    "\n",
    "# Ejecutar la consulta SQL\n",
    "result = spark.sql(\"SELECT * FROM animals WHERE pig > 100\")\n",
    "\n",
    "# Mostrar el resultado\n",
    "result.show()"
   ]
  },
  {
   "cell_type": "code",
   "execution_count": 28,
   "metadata": {},
   "outputs": [],
   "source": [
    "pdf = pd.DataFrame({'year': [1990, 1997, 2003, 2009, 2014],\n",
    "                    'sheep': [22, 50, 121, 445, 791],\n",
    "                    'chicken': [250, 326, 589, 1241, 2118]})"
   ]
  },
  {
   "cell_type": "code",
   "execution_count": 30,
   "metadata": {
    "scrolled": true
   },
   "outputs": [
    {
     "name": "stdout",
     "output_type": "stream",
     "text": [
      "   year   pig  chicken\n",
      "1  1997    18      326\n",
      "0  1990    20      250\n",
      "2  2003   489      589\n",
      "3  2009   675     1241\n",
      "4  2014  1776     2118\n"
     ]
    }
   ],
   "source": [
    "## Haz un inner join entre kdf y pdf en la vriable year, selecciona el pig y el chicken\n",
    "## ordena los datos por pig y chicken\n",
    "\n",
    "# Crear DataFrame kdf (pandas on spark)\n",
    "# Crear el DataFrame de Pandas API on Spark kdf\n",
    "kdf = ps.DataFrame({'year': [1990, 1997, 2003, 2009, 2014],\n",
    "                    'pig': [20, 18, 489, 675, 1776],\n",
    "                    'horse': [4, 25, 281, 600, 1900]})\n",
    "\n",
    "# Convertir pdf a un DataFrame de Pandas API on Spark\n",
    "pdf_ps = ps.from_pandas(pdf)\n",
    "\n",
    "# Hacer el inner join entre kdf y pdf_ps en la columna 'year'\n",
    "joined_df = kdf.merge(pdf_ps, on='year', how='inner')\n",
    "\n",
    "# Seleccionar las columnas 'pig' y 'chicken' y ordenar por ambas\n",
    "result = joined_df[['year', 'pig', 'chicken']].sort_values(by=['pig', 'chicken'])\n",
    "\n",
    "# Mostrar el resultado\n",
    "print(result)"
   ]
  },
  {
   "cell_type": "markdown",
   "metadata": {},
   "source": [
    "### Trabajando con PySpark"
   ]
  },
  {
   "cell_type": "code",
   "execution_count": 31,
   "metadata": {
    "scrolled": true
   },
   "outputs": [],
   "source": [
    "kdf = ps.DataFrame({'A': [1, 2, 3, 4, 5], 'B': [10, 20, 30, 40, 50]})\n",
    "\n"
   ]
  },
  {
   "cell_type": "code",
   "execution_count": 23,
   "metadata": {},
   "outputs": [
    {
     "data": {
      "text/html": [
       "<div>\n",
       "<style scoped>\n",
       "    .dataframe tbody tr th:only-of-type {\n",
       "        vertical-align: middle;\n",
       "    }\n",
       "\n",
       "    .dataframe tbody tr th {\n",
       "        vertical-align: top;\n",
       "    }\n",
       "\n",
       "    .dataframe thead th {\n",
       "        text-align: right;\n",
       "    }\n",
       "</style>\n",
       "<table border=\"1\" class=\"dataframe\">\n",
       "  <thead>\n",
       "    <tr style=\"text-align: right;\">\n",
       "      <th></th>\n",
       "      <th>A</th>\n",
       "      <th>B</th>\n",
       "    </tr>\n",
       "  </thead>\n",
       "  <tbody>\n",
       "    <tr>\n",
       "      <th>0</th>\n",
       "      <td>1</td>\n",
       "      <td>10</td>\n",
       "    </tr>\n",
       "    <tr>\n",
       "      <th>1</th>\n",
       "      <td>2</td>\n",
       "      <td>20</td>\n",
       "    </tr>\n",
       "    <tr>\n",
       "      <th>2</th>\n",
       "      <td>3</td>\n",
       "      <td>30</td>\n",
       "    </tr>\n",
       "    <tr>\n",
       "      <th>3</th>\n",
       "      <td>4</td>\n",
       "      <td>40</td>\n",
       "    </tr>\n",
       "    <tr>\n",
       "      <th>4</th>\n",
       "      <td>5</td>\n",
       "      <td>50</td>\n",
       "    </tr>\n",
       "  </tbody>\n",
       "</table>\n",
       "</div>"
      ],
      "text/plain": [
       "   A   B\n",
       "0  1  10\n",
       "1  2  20\n",
       "2  3  30\n",
       "3  4  40\n",
       "4  5  50"
      ]
     },
     "execution_count": 23,
     "metadata": {},
     "output_type": "execute_result"
    }
   ],
   "source": [
    "## muestra los datos\n",
    "kdf"
   ]
  },
  {
   "cell_type": "code",
   "execution_count": null,
   "metadata": {},
   "outputs": [],
   "source": []
  }
 ],
 "metadata": {
  "kernelspec": {
   "display_name": "ProcessBigData",
   "language": "python",
   "name": "python3"
  },
  "language_info": {
   "codemirror_mode": {
    "name": "ipython",
    "version": 3
   },
   "file_extension": ".py",
   "mimetype": "text/x-python",
   "name": "python",
   "nbconvert_exporter": "python",
   "pygments_lexer": "ipython3",
   "version": "3.8.19"
  }
 },
 "nbformat": 4,
 "nbformat_minor": 2
}
