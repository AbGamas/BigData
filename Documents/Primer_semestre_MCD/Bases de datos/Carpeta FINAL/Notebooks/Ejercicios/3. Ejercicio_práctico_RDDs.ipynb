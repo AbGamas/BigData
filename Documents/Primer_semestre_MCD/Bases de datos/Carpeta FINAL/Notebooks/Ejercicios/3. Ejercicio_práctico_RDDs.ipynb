{
 "cells": [
  {
   "cell_type": "markdown",
   "id": "22bc4d93",
   "metadata": {},
   "source": [
    "# Ejercicio Práctico RDDs"
   ]
  },
  {
   "cell_type": "code",
   "execution_count": 1,
   "id": "c1a214d6",
   "metadata": {},
   "outputs": [],
   "source": [
    "import findspark\n",
    "findspark.init()\n",
    "\n",
    "import pandas as pd\n",
    "import pyspark\n",
    "from pyspark.sql import SparkSession"
   ]
  },
  {
   "cell_type": "code",
   "execution_count": 2,
   "id": "bd8b0d7c",
   "metadata": {},
   "outputs": [],
   "source": [
    "spark = SparkSession.builder.getOrCreate()\n",
    "sc = spark.sparkContext"
   ]
  },
  {
   "cell_type": "code",
   "execution_count": 6,
   "id": "1479e36b",
   "metadata": {},
   "outputs": [
    {
     "data": {
      "text/plain": [
       "[1, 2, 3, 4, 5]"
      ]
     },
     "execution_count": 6,
     "metadata": {},
     "output_type": "execute_result"
    }
   ],
   "source": [
    "## Genera un RDD (newRDD) con la siguiente lista [1, 2, 3, 4, 5]\n",
    "\n",
    "lista = [1,2,3,4,5]\n",
    "\n",
    "list_rdd = sc.parallelize(lista)\n",
    "list_rdd.collect()"
   ]
  },
  {
   "cell_type": "code",
   "execution_count": 7,
   "id": "9bc25ae9",
   "metadata": {},
   "outputs": [
    {
     "data": {
      "text/plain": [
       "[2, 4, 6, 8, 10]"
      ]
     },
     "execution_count": 7,
     "metadata": {},
     "output_type": "execute_result"
    }
   ],
   "source": [
    "## Multiplica por 2 todos los elementos del RDD anterior\n",
    "\n",
    "doble_lista_rdd = list_rdd.map(lambda x : x*2)\n",
    "\n",
    "doble_lista_rdd.collect()"
   ]
  },
  {
   "cell_type": "code",
   "execution_count": 8,
   "id": "a047081a",
   "metadata": {},
   "outputs": [
    {
     "data": {
      "text/plain": [
       "[2, 4, 6]"
      ]
     },
     "execution_count": 8,
     "metadata": {},
     "output_type": "execute_result"
    }
   ],
   "source": [
    "data= [1, 2, 3, 4, 5, 6]\n",
    "\n",
    "myRDD= sc.parallelize(data)\n",
    "\n",
    "## Filtra el RDD anterior por los elementos pares\n",
    "\n",
    "pares_myRDD = myRDD.filter(lambda x : x % 2 == 0)\n",
    "\n",
    "pares_myRDD.collect()"
   ]
  },
  {
   "cell_type": "code",
   "execution_count": 9,
   "id": "aeb368f0",
   "metadata": {},
   "outputs": [
    {
     "data": {
      "text/plain": [
       "[1, 2, 3, 4, 5, 6]"
      ]
     },
     "execution_count": 9,
     "metadata": {},
     "output_type": "execute_result"
    }
   ],
   "source": [
    "## Muestra los elementos unicos del RDD\n",
    "\n",
    "dist_myRDD = myRDD.distinct()\n",
    "dist_myRDD.collect()"
   ]
  },
  {
   "cell_type": "code",
   "execution_count": 10,
   "id": "787c7986",
   "metadata": {},
   "outputs": [
    {
     "name": "stdout",
     "output_type": "stream",
     "text": [
      "('a', 6)\n",
      "('b', 1)\n"
     ]
    }
   ],
   "source": [
    "from operator import add\n",
    "\n",
    "myRDD = sc.parallelize([('a', 1), ('a', 2), ('a', 3), ('b', 1)])\n",
    "\n",
    "## Obten la suma de los valores agrupados por el key\n",
    "\n",
    "key = myRDD.reduceByKey(lambda x, y : x + y)\n",
    "\n",
    "result = key.collect()\n",
    "print(*result, sep='\\n')"
   ]
  },
  {
   "cell_type": "code",
   "execution_count": 12,
   "id": "5133d6f2",
   "metadata": {},
   "outputs": [
    {
     "data": {
      "text/plain": [
       "[('a', <pyspark.resultiterable.ResultIterable at 0x17ef49fdaf0>),\n",
       " ('b', <pyspark.resultiterable.ResultIterable at 0x17ef4880cd0>)]"
      ]
     },
     "execution_count": 12,
     "metadata": {},
     "output_type": "execute_result"
    }
   ],
   "source": [
    "## Ordena los RDDs en base al key\n",
    "\n",
    "group = myRDD.groupByKey()\n",
    "group.collect()"
   ]
  },
  {
   "cell_type": "code",
   "execution_count": 15,
   "id": "bfe2d705",
   "metadata": {},
   "outputs": [
    {
     "name": "stdout",
     "output_type": "stream",
     "text": [
      "('a', 6)\n",
      "('b', 1)\n"
     ]
    }
   ],
   "source": [
    "data= [1, 2, 3, 4, 5]\n",
    "\n",
    "myRDD2= sc.parallelize(data)\n",
    "## Toma los elementos del RDD para multiplicarlos entre si y obtener un resultado\n",
    "\n",
    "multi = myRDD2.reduceByKey(lambda x, y : x * y)\n",
    "\n",
    "result = key.collect()\n",
    "print(*result, sep='\\n')"
   ]
  },
  {
   "cell_type": "code",
   "execution_count": 16,
   "id": "b6139be0",
   "metadata": {},
   "outputs": [
    {
     "data": {
      "text/plain": [
       "7"
      ]
     },
     "execution_count": 16,
     "metadata": {},
     "output_type": "execute_result"
    }
   ],
   "source": [
    "data= ['Python', 'Scala', 'Python', 'R', 'Python', 'Java', 'R' ]\n",
    "\n",
    "myRDD= sc.parallelize(data)\n",
    "\n",
    "## Cuenta cuantas veces aparece cada valor\n",
    "\n",
    "myRDD.count()"
   ]
  },
  {
   "cell_type": "code",
   "execution_count": 17,
   "id": "633f7716",
   "metadata": {},
   "outputs": [
    {
     "name": "stdout",
     "output_type": "stream",
     "text": [
      "('a', 2)\n",
      "('b', 1)\n",
      "('c', 1)\n"
     ]
    }
   ],
   "source": [
    "data= [('a', 1), ('b', 1), ('c', 1), ('a', 1)]\n",
    "myRDD = sc.parallelize(data)\n",
    "\n",
    "## Cuenta cuantas veces aparece cada una de las keys\n",
    "\n",
    "# Como todos los valores son 1, puedo sumar los que sean iguales y así saber cuántas veces aparece cada clave. El resultado me dice que \"a\" aparece dos veces\n",
    "contar = myRDD.reduceByKey(lambda x, y : x + y)\n",
    "\n",
    "result = contar.collect()\n",
    "print(*result, sep='\\n')"
   ]
  }
 ],
 "metadata": {
  "kernelspec": {
   "display_name": "ProcessBigData",
   "language": "python",
   "name": "python3"
  },
  "language_info": {
   "codemirror_mode": {
    "name": "ipython",
    "version": 3
   },
   "file_extension": ".py",
   "mimetype": "text/x-python",
   "name": "python",
   "nbconvert_exporter": "python",
   "pygments_lexer": "ipython3",
   "version": "3.8.19"
  }
 },
 "nbformat": 4,
 "nbformat_minor": 5
}
